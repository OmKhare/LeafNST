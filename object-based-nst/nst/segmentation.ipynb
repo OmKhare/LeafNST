{
 "cells": [
  {
   "cell_type": "code",
   "execution_count": 1,
   "metadata": {},
   "outputs": [],
   "source": [
    "import torch\n",
    "from ultralytics import YOLO\n",
    "import numpy as np\n",
    "\n",
    "device: str = \"mps\" if torch.backends.mps.is_available() else \"cpu\"\n",
    "\n",
    "model = YOLO('./models/yolov8x-seg.pt')  # load a pretrained YOLOv8n segmentation model"
   ]
  },
  {
   "cell_type": "code",
   "execution_count": 2,
   "metadata": {},
   "outputs": [
    {
     "name": "stdout",
     "output_type": "stream",
     "text": [
      "\n",
      "0: 640x480 1 vase, 637.9ms\n",
      "Speed: 3.0ms preprocess, 637.9ms inference, 9.0ms postprocess per image at shape (1, 3, 640, 480)\n"
     ]
    }
   ],
   "source": [
    "import cv2\n",
    "img = cv2.imread('../images/specialcontent/istockphoto-181610647-612x612.jpg')\n",
    "H, W, _ = img.shape\n",
    "results = model(img)"
   ]
  },
  {
   "cell_type": "code",
   "execution_count": 3,
   "metadata": {},
   "outputs": [],
   "source": [
    "for result in results:\n",
    "    for j, mask in enumerate(result.masks.data):\n",
    "        mask = mask.cpu().numpy() * 255\n",
    "        mask  =cv2.resize(mask, (W, H))\n",
    "        cv2.imwrite('./output.png', mask)\n"
   ]
  },
  {
   "cell_type": "code",
   "execution_count": 4,
   "metadata": {},
   "outputs": [],
   "source": [
    "for result in results:\n",
    "    for j, mask in enumerate(result.masks.data):\n",
    "        # Resize the mask to match the original image dimensions\n",
    "        mask = cv2.resize(mask.cpu().numpy(), (W, H))\n",
    "\n",
    "        # Create a red-colored mask\n",
    "        red_mask = np.zeros_like(img)\n",
    "        red_mask[:, :, 2] = 255  # Set the red channel to 255\n",
    "\n",
    "        # Apply the mask to make the object red\n",
    "        red_object = cv2.bitwise_and(red_mask, red_mask, mask=(mask > 0).astype(np.uint8))\n",
    "\n",
    "        cv2.imshow(\"object\",red_object)\n",
    "\n",
    "        cv2.waitKey(0) \n",
    "        \n",
    "        cv2.destroyAllWindows()\n",
    "\n",
    "        # Invert the mask to create a black background\n",
    "        black_background = cv2.bitwise_not((mask > 0).astype(np.uint8))\n",
    "\n",
    "        # Convert black_background to the same data type as img\n",
    "        black_background = black_background.astype(np.uint8)\n",
    "\n",
    "        # Extract the region from the original image\n",
    "        original_region = cv2.bitwise_and(img, img, mask=black_background)\n",
    "\n",
    "        # Add the red-colored object to the original region\n",
    "        result_image = cv2.add(original_region, red_object)\n",
    "\n",
    "        # Save or display the result image\n",
    "        cv2.imwrite('./output.png', result_image)"
   ]
  },
  {
   "cell_type": "code",
   "execution_count": 1,
   "metadata": {},
   "outputs": [],
   "source": [
    "import cv2\n",
    "def imread(path):\n",
    "    img = cv2.imread(path).astype(np.float)\n",
    "    if len(img.shape) == 2:\n",
    "        # grayscale\n",
    "        img = np.dstack((img,img,img))\n",
    "    elif img.shape[2] == 4:\n",
    "        # PNG with alpha channel\n",
    "        img = img[:,:,:3]\n",
    "    return img\n",
    "\n",
    "def imsave(path, img):\n",
    "    img = np.clip(img, 0, 255).astype(np.uint8)\n",
    "    Image.fromarray(img).save(path, quality=95)"
   ]
  },
  {
   "cell_type": "code",
   "execution_count": null,
   "metadata": {},
   "outputs": [],
   "source": []
  },
  {
   "cell_type": "code",
   "execution_count": null,
   "metadata": {},
   "outputs": [],
   "source": []
  }
 ],
 "metadata": {
  "kernelspec": {
   "display_name": "base",
   "language": "python",
   "name": "python3"
  },
  "language_info": {
   "codemirror_mode": {
    "name": "ipython",
    "version": 3
   },
   "file_extension": ".py",
   "mimetype": "text/x-python",
   "name": "python",
   "nbconvert_exporter": "python",
   "pygments_lexer": "ipython3",
   "version": "3.9.18"
  }
 },
 "nbformat": 4,
 "nbformat_minor": 2
}
